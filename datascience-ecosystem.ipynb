{
 "cells": [
  {
   "cell_type": "markdown",
   "id": "e601f1da-7b9a-4aca-a6eb-d4ab580c1beb",
   "metadata": {},
   "source": [
    "# Tools and Ecosystem of Data Science"
   ]
  },
  {
   "cell_type": "markdown",
   "id": "f46f7c1d-ed13-48be-ab1b-69219058822d",
   "metadata": {},
   "source": [
    "In this notebook, tools and the ecosystem of Data Science are summarized."
   ]
  },
  {
   "cell_type": "markdown",
   "id": "3e5117f0-26f8-4bc9-a0fd-f46e679212e1",
   "metadata": {},
   "source": [
    "Some of the popular programming languages used by data scientists include:\n",
    "1. Python\n",
    "2. R\n",
    "3. SQL\n",
    "4. Julia\n",
    "5. Scala"
   ]
  },
  {
   "cell_type": "markdown",
   "id": "d6fbe702-36bd-4693-a049-682e0640e8df",
   "metadata": {},
   "source": [
    "Some of the commonly used libraries in data science include:\n",
    "1. Pandas\n",
    "2. NumPy\n",
    "3. Matplotlib\n",
    "4. Scikit-learn\n",
    "5. TensorFlow"
   ]
  },
  {
   "cell_type": "markdown",
   "id": "6062bcca-4c82-45aa-be49-f1313ce3edd1",
   "metadata": {},
   "source": [
    "| Data Science Tools     |\n",
    "|------------------------|\n",
    "| Jupyter Notebook       |\n",
    "| RStudio                |\n",
    "| Apache Zeppelin        |"
   ]
  },
  {
   "cell_type": "markdown",
   "id": "dc60239a-8799-4b93-9edd-4ef997d5263f",
   "metadata": {},
   "source": [
    "### Below are some examples of evaluating arithmetic expressions in Python."
   ]
  },
  {
   "cell_type": "code",
   "execution_count": 6,
   "id": "eb6eb299-0def-4cf7-a580-9d6b0e70379c",
   "metadata": {},
   "outputs": [
    {
     "data": {
      "text/plain": [
       "17"
      ]
     },
     "execution_count": 6,
     "metadata": {},
     "output_type": "execute_result"
    }
   ],
   "source": [
    "# This is a simple arithmetic expression to multiply then add integers\n",
    "(3 * 4) + 5"
   ]
  },
  {
   "cell_type": "code",
   "execution_count": 7,
   "id": "d69bc067-7d70-4048-9a70-5a2d182a1c73",
   "metadata": {},
   "outputs": [
    {
     "data": {
      "text/plain": [
       "3.3333333333333335"
      ]
     },
     "execution_count": 7,
     "metadata": {},
     "output_type": "execute_result"
    }
   ],
   "source": [
    "# This will convert 200 minutes to hours by dividing by 60\n",
    "200 / 60"
   ]
  },
  {
   "cell_type": "markdown",
   "id": "3213a3cc-2172-4e60-aed6-92ec3f94feec",
   "metadata": {},
   "source": [
    "**Objectives:**\n",
    "- List popular languages used in data science\n",
    "- Identify commonly used libraries\n",
    "- Present open-source tools\n",
    "- Perform simple arithmetic operations\n",
    "- Convert units using Python"
   ]
  },
  {
   "cell_type": "markdown",
   "id": "31d98ddf-c202-4189-a45d-39b3e3eab650",
   "metadata": {},
   "source": [
    "## Author\n",
    "Mohamed Salifou Wazama"
   ]
  },
  {
   "cell_type": "code",
   "execution_count": null,
   "id": "6ec37089-0108-45ce-a1c9-56420abc54d6",
   "metadata": {},
   "outputs": [],
   "source": []
  }
 ],
 "metadata": {
  "kernelspec": {
   "display_name": "Python 3 (ipykernel)",
   "language": "python",
   "name": "python3"
  },
  "language_info": {
   "codemirror_mode": {
    "name": "ipython",
    "version": 3
   },
   "file_extension": ".py",
   "mimetype": "text/x-python",
   "name": "python",
   "nbconvert_exporter": "python",
   "pygments_lexer": "ipython3",
   "version": "3.12.8"
  }
 },
 "nbformat": 4,
 "nbformat_minor": 5
}
